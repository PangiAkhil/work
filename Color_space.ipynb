{
 "cells": [
  {
   "cell_type": "code",
   "execution_count": 1,
   "id": "0931fd6d-49bc-4517-ac90-7e786d7b955c",
   "metadata": {},
   "outputs": [],
   "source": [
    "import numpy as np\n",
    "import os\n",
    "import pandas as pd\n",
    "import cv2"
   ]
  },
  {
   "cell_type": "code",
   "execution_count": 2,
   "id": "0b340989-be31-4247-80ee-7b48efb2c4bc",
   "metadata": {},
   "outputs": [
    {
     "name": "stdout",
     "output_type": "stream",
     "text": [
      "(500, 500)\n"
     ]
    }
   ],
   "source": [
    "## White color canvas  --- color_space ---grayscale\n",
    "canva = np.full((500,500),255,dtype = np.uint8)\n",
    "print(canva.shape)\n",
    "cv2.line(canva,(0,0),(200,0),(180),10)\n",
    "\n",
    "cv2.imshow(\"line\",canva)\n",
    "cv2.waitKey()\n",
    "cv2.destroyAllWindows()"
   ]
  },
  {
   "cell_type": "code",
   "execution_count": null,
   "id": "f7ec6c39-6759-44fc-aa47-e129cc79bb7b",
   "metadata": {},
   "outputs": [],
   "source": [
    "## White color canvas  --- color_space ---BGR\n",
    "canva = np.full((500,500,3),255,dtype = np.uint8)\n",
    "\n",
    "cv2.line(canva,(0,0),(500,500),(255,0,0),4)   #-- Diagonal line\n",
    "\n",
    "cv2.imshow(\"line\",canva)\n",
    "cv2.waitKey()\n",
    "cv2.destroyAllWindows()"
   ]
  },
  {
   "cell_type": "code",
   "execution_count": null,
   "id": "64025864-05c7-44e2-9eb1-4bd383f837c6",
   "metadata": {},
   "outputs": [],
   "source": [
    "## Vertical Line\n",
    "canva = np.full((500,500,3),255,dtype = np.uint8)\n",
    "\n",
    "cv2.line(canva,(255,0),(255,500),(255,0,0),4)\n",
    "\n",
    "cv2.imshow(\"line\",canva)\n",
    "cv2.waitKey()\n",
    "cv2.destroyAllWindows()"
   ]
  },
  {
   "cell_type": "code",
   "execution_count": null,
   "id": "ce663e74-6cbc-4cfa-8138-fef28bac76a3",
   "metadata": {},
   "outputs": [],
   "source": [
    "## half Vertical Line\n",
    "canva = np.full((500,500,3),255,dtype = np.uint8)\n",
    "\n",
    "cv2.line(canva,(255,0),(255,255),(255,0,0),4)\n",
    "\n",
    "cv2.imshow(\"line\",canva)\n",
    "cv2.waitKey()\n",
    "cv2.destroyAllWindows()"
   ]
  },
  {
   "cell_type": "code",
   "execution_count": null,
   "id": "34eb3e35-0de3-4810-bed5-7556b5727a68",
   "metadata": {},
   "outputs": [],
   "source": [
    "## Horizontal Line\n",
    "canva = np.full((500,500,3),255,dtype = np.uint8)\n",
    "\n",
    "cv2.line(canva,(0,250),(500,250),(255,0,0),4)\n",
    "\n",
    "cv2.imshow(\"line\",canva)\n",
    "cv2.waitKey()\n",
    "cv2.destroyAllWindows()"
   ]
  },
  {
   "cell_type": "code",
   "execution_count": null,
   "id": "28c5de1f-4df7-49e8-a7a6-578ad7e80bd7",
   "metadata": {},
   "outputs": [],
   "source": []
  },
  {
   "cell_type": "markdown",
   "id": "f26809b4-d71f-4d21-8622-c880c43b14fd",
   "metadata": {},
   "source": [
    "## Rectangle or Square"
   ]
  },
  {
   "cell_type": "code",
   "execution_count": null,
   "id": "9b7395d7-0a89-4ac3-ae44-bea8c529d4f2",
   "metadata": {},
   "outputs": [],
   "source": [
    "canva = np.full((500,500,3),255,dtype =np.uint8)\n",
    "\n",
    "cv2.rectangle(canva,(200,200),(400,400),(255,0,0),2)\n",
    "\n",
    "cv2.rectangle(canva,(300,200),(400,500),(255,0,0),-1)\n",
    "\n",
    "cv2.imshow(\"rectangle\",canva)\n",
    "cv2.waitKey()\n",
    "cv2.destroyAllWindows()"
   ]
  },
  {
   "cell_type": "code",
   "execution_count": null,
   "id": "12b2d564-b8db-471b-a61a-ca68c3644d6b",
   "metadata": {},
   "outputs": [],
   "source": [
    "canva = np.full((500,500,3),255,dtype =np.uint8)\n",
    "cv2.rectangle(canva,(200,200),(500,400),(255,0,0),2)\n",
    "\n",
    "cv2.imshow(\"rectangle\",canva)\n",
    "cv2.waitKey()\n",
    "cv2.destroyAllWindows()"
   ]
  },
  {
   "cell_type": "code",
   "execution_count": null,
   "id": "1c1b32f8-129f-40ac-ba2c-38fbeab992d4",
   "metadata": {},
   "outputs": [],
   "source": []
  },
  {
   "cell_type": "markdown",
   "id": "a0f137e9-4288-414c-aef9-e8c017548ce6",
   "metadata": {},
   "source": [
    "## Circle"
   ]
  },
  {
   "cell_type": "code",
   "execution_count": null,
   "id": "f52caad1-39cd-4523-9a46-086b52370fae",
   "metadata": {},
   "outputs": [],
   "source": [
    "canva = np.full((500,500,3),255,dtype =np.uint8)\n",
    "\n",
    "cv2.circle(canva,(250,250),150,(255,0,0),2)\n",
    "##image,center(pixel)(c,r),radius,color,thickness of the circle\n",
    "\n",
    "cv2.imshow(\"circle\",canva)\n",
    "cv2.waitKey()\n",
    "cv2.destroyAllWindows()"
   ]
  },
  {
   "cell_type": "code",
   "execution_count": null,
   "id": "f08142b1-213a-4800-85e4-dd5396a55f99",
   "metadata": {},
   "outputs": [],
   "source": []
  },
  {
   "cell_type": "markdown",
   "id": "e1c73118-7658-4b66-991d-0871faf784f2",
   "metadata": {},
   "source": [
    "## Circle & Rectangle"
   ]
  },
  {
   "cell_type": "code",
   "execution_count": null,
   "id": "ac4a2fe8-ba3e-4b23-8816-46bfb95623cc",
   "metadata": {},
   "outputs": [],
   "source": [
    "canva = np.full((500,500,3),255,dtype =np.uint8)\n",
    "\n",
    "cv2.circle(canva,(250,250),150,(255,0,0),2)\n",
    "cv2.rectangle(canva,(200,200),(500,400),(0,255,0),-1)\n",
    "\n",
    "cv2.imshow(\"circle\",canva)\n",
    "cv2.waitKey()\n",
    "cv2.destroyAllWindows()"
   ]
  },
  {
   "cell_type": "code",
   "execution_count": null,
   "id": "b6595cf3-d26a-444e-a7c4-df56433e2273",
   "metadata": {},
   "outputs": [],
   "source": []
  },
  {
   "cell_type": "markdown",
   "id": "0ea07cee-054f-4c21-a451-1bb3be6350a9",
   "metadata": {},
   "source": [
    "## Polylines"
   ]
  },
  {
   "cell_type": "code",
   "execution_count": null,
   "id": "69e8ad02-d81d-4882-8f93-bf33b61cba83",
   "metadata": {},
   "outputs": [],
   "source": [
    "pts = np.array([[12,15],[56,78],[89,10],[25,40],[60,30]])\n",
    "\n",
    "canva = np.full((500,500,3),255,dtype =np.uint8)\n",
    "\n",
    "pts = pts.reshape((-1,1,2))\n",
    "\n",
    "cv2.polylines(canva,[pts],True,(0,255,0),4)\n",
    "\n",
    "\n",
    "cv2.imshow(\"polylines\",canva)\n",
    "cv2.waitKey()\n",
    "cv2.destroyAllWindows()"
   ]
  },
  {
   "cell_type": "code",
   "execution_count": null,
   "id": "e947a2e9-00dc-4a15-bf24-d6d061db0dae",
   "metadata": {},
   "outputs": [],
   "source": []
  },
  {
   "cell_type": "markdown",
   "id": "828e827f-5494-4fef-9578-538b48ff6674",
   "metadata": {},
   "source": [
    "## To Write Text inside the Canvas"
   ]
  },
  {
   "cell_type": "code",
   "execution_count": null,
   "id": "59e2749c-39ea-4ef5-bdc4-10a7fa72fbc4",
   "metadata": {},
   "outputs": [],
   "source": [
    "canva = np.full((600,600,3),255,dtype =np.uint8)\n",
    "\n",
    "cv2.putText(canva,\"SaniyaMastan\",(100,100),cv2.FONT_ITALIC,2,(255,0,0),8)\n",
    "\n",
    "cv2.imshow(\"txt\",canva)\n",
    "cv2.waitKey()\n",
    "cv2.destroyAllWindows()"
   ]
  }
 ],
 "metadata": {
  "kernelspec": {
   "display_name": "Python 3 (ipykernel)",
   "language": "python",
   "name": "python3"
  },
  "language_info": {
   "codemirror_mode": {
    "name": "ipython",
    "version": 3
   },
   "file_extension": ".py",
   "mimetype": "text/x-python",
   "name": "python",
   "nbconvert_exporter": "python",
   "pygments_lexer": "ipython3",
   "version": "3.11.7"
  }
 },
 "nbformat": 4,
 "nbformat_minor": 5
}
